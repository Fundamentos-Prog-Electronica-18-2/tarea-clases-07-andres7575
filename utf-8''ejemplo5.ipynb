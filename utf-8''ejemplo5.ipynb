{
  "cells": [
    {
      "metadata": {
        "trusted": true
      },
      "cell_type": "code",
      "source": "\"\"\"\nsi el usuario presenta la opcion 1:\n      presentar la tabla de multiplicar de un numero que ingrese el usuario:\nsi el usuario presenta la opcion 2:\n      presentar la tabla se sumar de un numero que ingrese el usuario:\nsi ingresa una opcion diferente:\n      presentar una cadena \"usted a ingresado una opcion incorrecta\"\nEjm. si es 7 la tabla quedaria asi\n\n7  * 1 = 7\n7  * 2 = 14\n....\n7 + 2 = 70\n      ",
      "execution_count": null,
      "outputs": []
    },
    {
      "metadata": {
        "trusted": true
      },
      "cell_type": "code",
      "source": "opcion = 0\ncontador = 1\nlimite = 12\nnumero = 7\noperacion = 0\n\nopcion = input(\"Ingrese una opcion:\\n\")\nopcion = int(opcion)\nnumero = input (\"ingrese un numero para operar:\\n\")\nnumero = int (numero)",
      "execution_count": 30,
      "outputs": [
        {
          "output_type": "stream",
          "name": "stdout",
          "text": "Ingrese una opcion:\n2\ningrese un numero para operar:\n5\n"
        }
      ]
    },
    {
      "metadata": {
        "trusted": true
      },
      "cell_type": "code",
      "source": "if opcion == 1:\n    while contador <= limite:\n        operacion = numero * contador\n        cadena_presentar = str(numero) + \" * \" +str(contador) + \\\n        \" = \" + str(operacion)\n        print (cadena_presentar)\n        contador = contador + 1\nelse:\n    if opcion == 2:\n        while contador <= limite:\n            operacion = numero + contador\n            cadena_presentar = str(numero) + \" + \" +str(contador) + \\\n            \" = \" + str(operacion)\n            print (cadena_presentar)\n            contador = contador + 1\n    \n    else:\n        print(\" usted ha ingresado una opcion incorrecta\")\n    ",
      "execution_count": 31,
      "outputs": [
        {
          "output_type": "stream",
          "text": "5 + 1 = 6\n5 + 2 = 7\n5 + 3 = 8\n5 + 4 = 9\n5 + 5 = 10\n5 + 6 = 11\n5 + 7 = 12\n5 + 8 = 13\n5 + 9 = 14\n5 + 10 = 15\n5 + 11 = 16\n5 + 12 = 17\n",
          "name": "stdout"
        }
      ]
    },
    {
      "metadata": {
        "trusted": true
      },
      "cell_type": "code",
      "source": "",
      "execution_count": null,
      "outputs": []
    }
  ],
  "metadata": {
    "kernelspec": {
      "name": "python36",
      "display_name": "Python 3.6",
      "language": "python"
    },
    "language_info": {
      "mimetype": "text/x-python",
      "nbconvert_exporter": "python",
      "name": "python",
      "pygments_lexer": "ipython3",
      "version": "3.6.6",
      "file_extension": ".py",
      "codemirror_mode": {
        "version": 3,
        "name": "ipython"
      }
    }
  },
  "nbformat": 4,
  "nbformat_minor": 2
}