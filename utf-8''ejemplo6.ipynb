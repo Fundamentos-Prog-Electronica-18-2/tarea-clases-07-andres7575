{
  "cells": [
    {
      "metadata": {
        "trusted": true
      },
      "cell_type": "code",
      "source": "\"\"\"\npresentar el promedio de estaturas de un conjunto de estudiantes, considerar:\n\n    El usuario presenta cuantas estaturas se requiere ingresar.\n    Al final se debe presentar el promedio del las estaturas previamente ingresadas\n    ....\n    \n\n      ",
      "execution_count": null,
      "outputs": []
    },
    {
      "metadata": {
        "trusted": true
      },
      "cell_type": "code",
      "source": "contador  =  1 \nlimite_estatura  =  10  \nsuma_estatura  =  0 \npresentar_cadena  =  0 \npromedio_estatura  =  0\n\nlimite_estatura  =  entrada ( \"ingrese el numero de estaturas: \\ n \" ) \nlimite_estatura  =  int  ( limite_estatura )\n",
      "execution_count": 15,
      "outputs": [
        {
          "output_type": "error",
          "ename": "NameError",
          "evalue": "name 'entrada' is not defined",
          "traceback": [
            "\u001b[0;31m---------------------------------------------------------------------------\u001b[0m",
            "\u001b[0;31mNameError\u001b[0m                                 Traceback (most recent call last)",
            "\u001b[0;32m<ipython-input-15-b5db386df679>\u001b[0m in \u001b[0;36m<module>\u001b[0;34m\u001b[0m\n\u001b[1;32m      5\u001b[0m \u001b[0mpromedio_estatura\u001b[0m  \u001b[0;34m=\u001b[0m  \u001b[0;36m0\u001b[0m\u001b[0;34m\u001b[0m\u001b[0m\n\u001b[1;32m      6\u001b[0m \u001b[0;34m\u001b[0m\u001b[0m\n\u001b[0;32m----> 7\u001b[0;31m \u001b[0mlimite_estatura\u001b[0m  \u001b[0;34m=\u001b[0m  \u001b[0mentrada\u001b[0m \u001b[0;34m(\u001b[0m \u001b[0;34m\"ingrese el numero de estaturas: \\ n \"\u001b[0m \u001b[0;34m)\u001b[0m\u001b[0;34m\u001b[0m\u001b[0m\n\u001b[0m\u001b[1;32m      8\u001b[0m \u001b[0mlimite_estatura\u001b[0m  \u001b[0;34m=\u001b[0m  \u001b[0mint\u001b[0m  \u001b[0;34m(\u001b[0m \u001b[0mlimite_estatura\u001b[0m \u001b[0;34m)\u001b[0m\u001b[0;34m\u001b[0m\u001b[0m\n",
            "\u001b[0;31mNameError\u001b[0m: name 'entrada' is not defined"
          ]
        }
      ]
    },
    {
      "metadata": {
        "trusted": true
      },
      "cell_type": "code",
      "source": "mientras que  contador  <=  limite_estatura : \n    estatura  =  entrada  ( \"ingrese una estatura: \\ n \" ) \n    estatura  =  flotador ( estatura ) \n    contador  =  contador  +  1 \n    suma_estatura  =  suma_estatura  +  estatura",
      "execution_count": 16,
      "outputs": [
        {
          "output_type": "error",
          "ename": "SyntaxError",
          "evalue": "invalid syntax (<ipython-input-16-889ba3cfbb82>, line 1)",
          "traceback": [
            "\u001b[0;36m  File \u001b[0;32m\"<ipython-input-16-889ba3cfbb82>\"\u001b[0;36m, line \u001b[0;32m1\u001b[0m\n\u001b[0;31m    mientras que  contador  <=  limite_estatura :\u001b[0m\n\u001b[0m               ^\u001b[0m\n\u001b[0;31mSyntaxError\u001b[0m\u001b[0;31m:\u001b[0m invalid syntax\n"
          ]
        }
      ]
    },
    {
      "metadata": {
        "trusted": true
      },
      "cell_type": "code",
      "source": "suma  =  suma_estatura  \nprint  ( suma )",
      "execution_count": 17,
      "outputs": [
        {
          "output_type": "stream",
          "text": "0\n",
          "name": "stdout"
        }
      ]
    },
    {
      "metadata": {
        "trusted": true
      },
      "cell_type": "code",
      "source": "promedio_estatura  =  suma  /  estatura \nprint  ( promedio_estatura )",
      "execution_count": null,
      "outputs": []
    },
    {
      "metadata": {
        "trusted": true
      },
      "cell_type": "code",
      "source": "",
      "execution_count": null,
      "outputs": []
    }
  ],
  "metadata": {
    "kernelspec": {
      "name": "python36",
      "display_name": "Python 3.6",
      "language": "python"
    },
    "language_info": {
      "mimetype": "text/x-python",
      "nbconvert_exporter": "python",
      "name": "python",
      "pygments_lexer": "ipython3",
      "version": "3.6.6",
      "file_extension": ".py",
      "codemirror_mode": {
        "version": 3,
        "name": "ipython"
      }
    }
  },
  "nbformat": 4,
  "nbformat_minor": 2
}